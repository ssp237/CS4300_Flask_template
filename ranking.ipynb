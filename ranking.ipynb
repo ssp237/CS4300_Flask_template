{
 "cells": [
  {
   "cell_type": "code",
   "execution_count": 60,
   "metadata": {},
   "outputs": [],
   "source": [
    "from sklearn.feature_extraction.text import TfidfVectorizer\n",
    "import numpy as np"
   ]
  },
  {
   "cell_type": "code",
   "execution_count": 61,
   "metadata": {},
   "outputs": [
    {
     "name": "stdout",
     "output_type": "stream",
     "text": [
      "{'antioxidant': {'concerns': 'aging, wrinkles, lines, texture, age, old, dull', 'products': ['A', 'B', 'C']}, 'anti-acne': {'concerns': 'acne, redness, oil, oily, pores, pimple, pimples, breakout, texture', 'products': ['1', '2', '3', '4', 'A']}}\n"
     ]
    }
   ],
   "source": [
    "# For next time: change products to a counter dictionary! then weigh by counts\n",
    "# so {'B': 4} means 4 of B's ingredients are antioxidants\n",
    "\n",
    "# Need a categories data structure\n",
    "\n",
    "categories = {}\n",
    "categories['antioxidant'] = {}\n",
    "categories['anti-acne'] = {}\n",
    "categories['antioxidant']['concerns'] = 'aging, wrinkles, lines, texture, age, old, dull'\n",
    "categories['anti-acne']['concerns'] = 'acne, redness, oil, oily, pores, pimple, pimples, breakout, texture'\n",
    "categories['antioxidant']['products'] = ['A', 'B', 'C']\n",
    "categories['anti-acne']['products'] = ['1', '2', '3', '4', 'A']\n",
    "print(categories)"
   ]
  },
  {
   "cell_type": "code",
   "execution_count": 62,
   "metadata": {},
   "outputs": [
    {
     "name": "stdout",
     "output_type": "stream",
     "text": [
      "{'antioxidant': 0, 'anti-acne': 1}\n"
     ]
    }
   ],
   "source": [
    "concern_to_index = {name:index for index, name in enumerate(categories)}\n",
    "print(concern_to_index)"
   ]
  },
  {
   "cell_type": "code",
   "execution_count": 63,
   "metadata": {},
   "outputs": [],
   "source": [
    "def cos_sim(c, tfidf_mat, concern_to_index):\n",
    "    \"\"\"Returns the cosine similarity of the query and a concern list.\n",
    "    \n",
    "    Params: {c: String,\n",
    "             tfidf_mat: np.ndarray,\n",
    "             concern_to_index: Dict}\n",
    "    Returns: Float \n",
    "    \"\"\"\n",
    "    # query is last row\n",
    "    v1 = tfidf_mat[len(tfidf_mat)-1]\n",
    "    v2 = tfidf_mat[concern_to_index[c]]\n",
    "    num = np.dot(v1, v2)\n",
    "\n",
    "    return num/(np.linalg.norm(v1)*np.linalg.norm(v2))"
   ]
  },
  {
   "cell_type": "code",
   "execution_count": 66,
   "metadata": {},
   "outputs": [],
   "source": [
    "def concern_similarity(concerns, categories, products_to_indices):\n",
    "    \"\"\" Finds cosine similarity between input query (concerns) and each product category's concern list. \n",
    "        Returns a numpy array with each product's score, based on the categories they are in.\n",
    "        \n",
    "        Params: {concerns: (user input) String,\n",
    "                 categories: (category -> Dict('products', 'concerns')) Dict,\n",
    "                 products_to_indices: (product -> index) Dict}\n",
    "        Returns: Numpy Array\n",
    "    \"\"\"\n",
    "    result = np.zeros(len(products_to_indices))\n",
    "                      \n",
    "    tfidf_vec = TfidfVectorizer(stop_words = 'english')\n",
    "    lst = [categories[k]['concerns'] for k in categories.keys()]\n",
    "    lst.append(concerns)\n",
    "    tfidf_mat = tfidf_vec.fit_transform(lst).toarray()\n",
    "    \n",
    "    for k,v in categories.items():\n",
    "        sim = cos_sim(k, tfidf_mat, concern_to_index)\n",
    "        for p in v['products']:\n",
    "            result[products_to_indices[p]] += sim\n",
    "    \n",
    "    # for invalid query\n",
    "    if sum(result) == 0: return 'invalid query'\n",
    "    return result"
   ]
  },
  {
   "cell_type": "code",
   "execution_count": 72,
   "metadata": {},
   "outputs": [
    {
     "name": "stdout",
     "output_type": "stream",
     "text": [
      "[0.56070853 0.11282497 0.11282497 0.44788357 0.44788357 0.44788357\n",
      " 0.44788357]\n"
     ]
    }
   ],
   "source": [
    "concerns = 'some redness, texture, and acne'\n",
    "# q1 = 'dryness'\n",
    "products_to_indices = {'A':0, 'B':1, 'C':2, '1':3, '2':4, '3':5, '4':6}\n",
    "indices_to_products = {v:k for k,v in products_to_indices.items()}\n",
    "arr = concern_similarity(concerns, categories, products_to_indices)\n",
    "print(arr)"
   ]
  },
  {
   "cell_type": "code",
   "execution_count": 73,
   "metadata": {},
   "outputs": [],
   "source": [
    "products = {'A': {\"num faves\": 9, \"price\": 10.45}, 'B': {\"num faves\": 3, \"price\": 4.45}, \n",
    "            'C': {\"num faves\": 12, \"price\": 10.99}, '1': {\"num faves\": 6, \"price\": 8.00}, \n",
    "            '2': {\"num faves\": 6, \"price\": 5.80}, '3': {\"num faves\": 2, \"price\": 6.99},\n",
    "            '4': {\"num faves\": 0, \"price\": 18.99}}"
   ]
  },
  {
   "cell_type": "code",
   "execution_count": 75,
   "metadata": {},
   "outputs": [
    {
     "name": "stdout",
     "output_type": "stream",
     "text": [
      "[(0.5607085343890859, 0), (0.4478835659540915, 4), (0.4478835659540915, 3), (0.4478835659540915, 5), (0.4478835659540915, 6), (0.11282496843499437, 2), (0.11282496843499437, 1)]\n"
     ]
    }
   ],
   "source": [
    "arr_idx = [(val,prod) for prod, val in enumerate(arr)]\n",
    "rank_idx = sorted(arr_idx, key = lambda x: (x[0], products[indices_to_products[x[1]]][\"num faves\"], \n",
    "                                            products[indices_to_products[x[1]]][\"price\"]), reverse = True)\n",
    "print(rank_idx)"
   ]
  },
  {
   "cell_type": "code",
   "execution_count": 77,
   "metadata": {},
   "outputs": [
    {
     "name": "stdout",
     "output_type": "stream",
     "text": [
      "['A', '2', '1', '3', '4', 'C', 'B']\n"
     ]
    }
   ],
   "source": [
    "ranking = list(map(lambda x: indices_to_products[x[1]], rank_idx))\n",
    "print(ranking)"
   ]
  }
 ],
 "metadata": {
  "kernelspec": {
   "display_name": "Python 3",
   "language": "python",
   "name": "python3"
  },
  "language_info": {
   "codemirror_mode": {
    "name": "ipython",
    "version": 3
   },
   "file_extension": ".py",
   "mimetype": "text/x-python",
   "name": "python",
   "nbconvert_exporter": "python",
   "pygments_lexer": "ipython3",
   "version": "3.8.5"
  }
 },
 "nbformat": 4,
 "nbformat_minor": 4
}
