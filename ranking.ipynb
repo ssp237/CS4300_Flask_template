{
 "cells": [
  {
   "cell_type": "code",
   "execution_count": 16,
   "metadata": {},
   "outputs": [],
   "source": [
    "from sklearn.feature_extraction.text import TfidfVectorizer\n",
    "import numpy as np"
   ]
  },
  {
   "cell_type": "code",
   "execution_count": 17,
   "metadata": {},
   "outputs": [
    {
     "name": "stdout",
     "output_type": "stream",
     "text": [
      "{'antioxidant': {'concerns': 'aging, wrinkles, lines, texture, age, old, dull', 'products': ['A', 'B', 'C']}, 'anti-acne': {'concerns': 'acne, redness, oil, oily, pores, pimple, pimples, breakout, texture', 'products': ['1', '2', '3', '4', 'A']}}\n"
     ]
    }
   ],
   "source": [
    "# For next time: change products to a counter dictionary! then weigh by counts\n",
    "# so {'B': 4} means 4 of B's ingredients are antioxidants\n",
    "\n",
    "# Need a categories data structure like this, with two fields for each category:\n",
    "# 'products': list of product names that contain 1+ ingredients in this category\n",
    "# 'concerns': String of keywords (added to the bottom of this notebook)\n",
    "\n",
    "categories = {}\n",
    "categories['antioxidant'] = {}\n",
    "categories['anti-acne'] = {}\n",
    "categories['antioxidant']['concerns'] = 'aging, wrinkles, lines, texture, age, old, dull'\n",
    "categories['anti-acne']['concerns'] = 'acne, redness, oil, oily, pores, pimple, pimples, breakout, texture'\n",
    "categories['antioxidant']['products'] = ['A', 'B', 'C']\n",
    "categories['anti-acne']['products'] = ['1', '2', '3', '4', 'A']\n",
    "print(categories)"
   ]
  },
  {
   "cell_type": "code",
   "execution_count": 18,
   "metadata": {},
   "outputs": [
    {
     "name": "stdout",
     "output_type": "stream",
     "text": [
      "{'antioxidant': 0, 'anti-acne': 1}\n"
     ]
    }
   ],
   "source": [
    "# code to construct structure that assigns categories to indices\n",
    "category_to_index = {name:index for index, name in enumerate(categories)}\n",
    "print(category_to_index)"
   ]
  },
  {
   "cell_type": "code",
   "execution_count": 19,
   "metadata": {},
   "outputs": [],
   "source": [
    "def cos_sim(c, tfidf_mat, category_to_idx):\n",
    "    \"\"\"Returns the cosine similarity of the query and a concern list.\n",
    "    \n",
    "    Params: {c: String,\n",
    "             tfidf_mat: np.ndarray,\n",
    "             concern_to_index: Dict}\n",
    "    Returns: Float \n",
    "    \"\"\"\n",
    "    # query is last row\n",
    "    v1 = tfidf_mat[len(tfidf_mat)-1]\n",
    "    v2 = tfidf_mat[category_to_idx[c]]\n",
    "    num = np.dot(v1, v2)\n",
    "\n",
    "    return num/(np.linalg.norm(v1)*np.linalg.norm(v2))"
   ]
  },
  {
   "cell_type": "code",
   "execution_count": 20,
   "metadata": {},
   "outputs": [],
   "source": [
    "def concern_similarity(query, category_info, prod_to_idx, category_to_idx):\n",
    "    \"\"\" Finds cosine similarity between input query (concerns) and each product category's concern list. \n",
    "        Returns a numpy array with each product's score, based on the categories they are in.\n",
    "        \n",
    "        Params: {query: (user input) String,\n",
    "                 category_info: (category -> Dict) Dict,\n",
    "                 prod_to_idx: (product -> index) Dict, \n",
    "                 category_to_idx: (category -> index) Dict}\n",
    "        Returns: Numpy Array\n",
    "    \"\"\"\n",
    "    result = np.zeros(len(prod_to_idx))\n",
    "                      \n",
    "    tfidf_vec = TfidfVectorizer(stop_words = 'english')\n",
    "    lst = [category_info[k]['concerns'] for k in categories.keys()]\n",
    "    lst.append(query)\n",
    "    tfidf_mat = tfidf_vec.fit_transform(lst).toarray()\n",
    "    \n",
    "    for k,v in category_info.items():\n",
    "        sim = cos_sim(k, tfidf_mat, category_to_idx)\n",
    "        for p in v['products']:\n",
    "            result[prod_to_idx[p]] += sim\n",
    "    \n",
    "    # for invalid query\n",
    "    if sum(result) == 0: return 'invalid query'\n",
    "    return result"
   ]
  },
  {
   "cell_type": "code",
   "execution_count": 21,
   "metadata": {},
   "outputs": [],
   "source": [
    "# this would be the user query\n",
    "concerns = 'some redness, texture, and acne'\n",
    "\n",
    "# this needs to be constructed and should contain indices for all products in our data\n",
    "products_to_indices = {'A':0, 'B':1, 'C':2, '1':3, '2':4, '3':5, '4':6}\n",
    "\n",
    "# code to construct structure that matches indices back to products\n",
    "indices_to_products = {v:k for k,v in products_to_indices.items()}"
   ]
  },
  {
   "cell_type": "code",
   "execution_count": 22,
   "metadata": {},
   "outputs": [],
   "source": [
    "# this would be the actual product data, which has more fields than just \"num faves\" and \"price\"\n",
    "\n",
    "products = {'A': {\"num faves\": 9, \"price\": 10.45}, 'B': {\"num faves\": 3, \"price\": 4.45}, \n",
    "            'C': {\"num faves\": 12, \"price\": 10.99}, '1': {\"num faves\": 6, \"price\": 8.00}, \n",
    "            '2': {\"num faves\": 6, \"price\": 5.80}, '3': {\"num faves\": 2, \"price\": 6.99},\n",
    "            '4': {\"num faves\": 0, \"price\": 18.99}}"
   ]
  },
  {
   "cell_type": "code",
   "execution_count": 23,
   "metadata": {},
   "outputs": [],
   "source": [
    "def rank_products(query, category_info, prod_to_idx, idx_to_prod, product_info, category_to_idx):\n",
    "    \"\"\" Returns a ranked list of products, with the most relevant at index 0.\n",
    "        \n",
    "        Params: {query: (user input) String,\n",
    "                 category_info: (category -> Dict) Dict,\n",
    "                 prod_to_idx: (product -> index) Dict,\n",
    "                 idx_to_prod: (index -> product) Dict\n",
    "                 product_info: (product -> Dict) Dict\n",
    "        Returns: List\n",
    "    \"\"\"\n",
    "    scores = concern_similarity(query, category_info, prod_to_idx, category_to_idx)\n",
    "    \n",
    "    scores_idx = [(val,prod) for prod, val in enumerate(scores)]\n",
    "    rank_idx = sorted(scores_idx, key = lambda x: (x[0], product_info[idx_to_prod[x[1]]][\"num faves\"], \n",
    "                                            product_info[idx_to_prod[x[1]]][\"price\"]), reverse = True)\n",
    "    ranking = list(map(lambda x: idx_to_prod[x[1]], rank_idx))\n",
    "    return ranking"
   ]
  },
  {
   "cell_type": "code",
   "execution_count": 24,
   "metadata": {},
   "outputs": [
    {
     "name": "stdout",
     "output_type": "stream",
     "text": [
      "['A', '1', '2', '3', '4', 'C', 'B']\n"
     ]
    }
   ],
   "source": [
    "ranking = rank_products(concerns, categories, products_to_indices, indices_to_products, products, category_to_index)\n",
    "print(ranking)"
   ]
  },
  {
   "cell_type": "code",
   "execution_count": 11,
   "metadata": {},
   "outputs": [],
   "source": [
    "# abrasive/scrub: 'acne, oil, oily, pores, pore, breakout, breakouts, wrinkles, lines, liney, texture, textured, smooth, smoother, smoothness, dull, dullness, dirt, dirty, makeup, clean, cleaning, comedones, blackhead, bleackheads, whitehead, whiteheads'\n",
    "# absorbent/mattifier: 'acne, oil, oily, pores, pore, pimple, pimples, breakout, breakouts, texture, textured, blackhead, bleackheads, whitehead, whiteheads'\n",
    "# anti-acne: 'acne, red, redness, oil, oily, pores, pore, pimple, pimples, breakout, breakouts, texture, textured, inflamed, inflammation, irritate, irritated, irritation, bump, bumps, bumpy'\n",
    "# antimicrobial/antibacterial: 'acne, oil, oily, pimple, pimples, breakout, texture, textured, bump, bumps, bumpy, comedones, blackhead, bleackheads, whitehead, whiteheads, pore, pores, dirt, dirty, makeup, clean, cleaning'\n",
    "# antioxidants: 'aging, age, wrinkles, wrinkly, lines, liney, texture, textured, rough, roughness, uneven, even, repair, repaired, repairs, protect, protection, sun, damage, damaged, dead, old, dull, dullness, pigmentation, hyperpigmentation, spots, spotty, dots, dotty, loose, droopy, drooping, sag, saggy, sags, sagging, elastic, elasticity, firm, firmer, firmness fresh, fresher, freshness, bright, brighter, brightness'\n",
    "# astringent: 'oil, oily, pores, pore, dirt, dirty, makeup, clean, cleaning, tone, toning, toner'\n",
    "# buffering: 'irritate, irritated, irritation, inflamed, inflammation, sensitive, sensitivity'\n",
    "# cell-communicating ingredient: 'aging, age, wrinkles, wrinkly, lines, liney, texture, rough, roughness, smooth, smoother, smoothness, uneven, even, damage, damaged, dead, old, dull, dullness, pigmentation, hyperpigmentation, spots, spotty, dry, dryness, loose, droopy, drooping, sag, saggy, sags, sagging, elastic, elasticity, firm, firmer, firmness, hydrate, hydrated, hydration, moisture, moisturizer, soft, softer, soften, fresh, fresher, freshness'\n",
    "# chelating: '' # no concerns, just stabilizes products\n",
    "# colorant: '' # no concerns, just colors products\n",
    "# deodorant: 'smell, smelling, odor, sweat, sweaty, sweatiness' # unlikely to be a part of our data, but just in case\n",
    "# emollient: 'itch, itchy, itchiness, redness, red, rosacea, texture, textured, rough, roughness, uneven, damage, damaged, dead, smooth, smoother, smoothness, inflamed, inflammation, irritate, irritated, irritation, dry, dryness, hydrate, hydrated, hydration, moisture, moisturizer, soft, softer, soften'\n",
    "# emulsifying: '' # no concerns, just helps mix ingredients\n",
    "# emulsion stabilising: '' # no concerns, just helps products stay mixed/stable\n",
    "# exfoliant: 'acne, oil, oily, pores, pore, breakout, breakouts, wrinkles, lines, liney, texture, textured, smooth, smoother, smoothness, dull, dullness, dirt, dirty, makeup, clean, cleaning, comedones, blackhead, bleackheads, whitehead, whiteheads, bright, brighter, brightness, fresh, fresher, freshness'\n",
    "# moisturizer/humectant: 'dry, dryness, peel, peeling, itch, itchy, itchiness, moisture, moisturizer, hydrate, hydrated, hydration, texture, rough, roughness, smooth, smoother, smoothness, soft, softer, soften, fresh, fresher, freshness'\n",
    "# perfuming: '' # no concerns, just fragrance\n",
    "# preservative: '' # no concerns, just for product longevity\n",
    "# skin brightening: 'sun, damage, damaged, repair, repaired, repairs, dull, dullness, pigmentation, hyperpigmentation, dark, darker, brown, brownish, spots, spotty, dots, dotty, brighter, brightness, even, uneven, tone, toner, toning'\n",
    "# skin-identical ingredient: 'aging, age, wrinkles, wrinkly, lines, liney, texture, rough, roughness, smooth, smoother, smoothness, uneven, even, protect, protection, damage, damaged, dead, old, dull, dullness, pigmentation, hyperpigmentation, spots, spotty, dry, dryness, loose, droopy, drooping, sag, saggy, sags, sagging, elastic, elasticity, firm, firmer, firmness, hydrate, hydrated, hydration, moisture, moisturizer, soft, softer, soften, fresh, fresher, freshness'\n",
    "# solvent: '' # no concerns, just for dissolving ingredients\n",
    "# soothing: 'itch, itchy, itchiness, redness, red, rosacea, soothe, soothing, smooth, smoother, smoothness, inflamed, inflammation, swelling, irritate, irritated, irritation, patches, patch, acne, breakout, breakouts, pimple, pimples, sensitive, sensitivity, gentle'\n",
    "# sunscreen: 'sun, damage, damaged, repair, repaired, repairs, protect, protection, dull, dullness, pigmentation, hyperpigmentation, dark, darker, brown, brownish, spots, spotty, dots, dotty, brighter, brightness, even, uneven, tone, toner, toning, aging, age, wrinkles, wrinkly, lines, liney'\n",
    "# surfactant/cleansing: 'dirt, dirty, makeup, clean, cleaning'\n",
    "# viscosity controlling: '' # no concerns, just for product thickness"
   ]
  }
 ],
 "metadata": {
  "kernelspec": {
   "display_name": "Python 3",
   "language": "python",
   "name": "python3"
  },
  "language_info": {
   "codemirror_mode": {
    "name": "ipython",
    "version": 3
   },
   "file_extension": ".py",
   "mimetype": "text/x-python",
   "name": "python",
   "nbconvert_exporter": "python",
   "pygments_lexer": "ipython3",
   "version": "3.8.5"
  }
 },
 "nbformat": 4,
 "nbformat_minor": 4
}
