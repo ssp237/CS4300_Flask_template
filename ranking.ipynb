{
 "cells": [
  {
   "cell_type": "code",
   "execution_count": 1,
   "metadata": {},
   "outputs": [],
   "source": [
    "from sklearn.feature_extraction.text import TfidfVectorizer\n",
    "import numpy as np"
   ]
  },
  {
   "cell_type": "code",
   "execution_count": 2,
   "metadata": {},
   "outputs": [
    {
     "name": "stdout",
     "output_type": "stream",
     "text": [
      "{'antioxidant': {'concerns': 'aging, wrinkles, lines, texture, age, old, dull', 'products': ['A', 'B', 'C']}, 'anti-acne': {'concerns': 'acne, redness, oil, oily, pores, pimple, pimples, breakout, texture', 'products': ['1', '2', '3', '4', 'A']}}\n"
     ]
    }
   ],
   "source": [
    "# For next time: change products to a counter dictionary! then weigh by counts\n",
    "# so {'B': 4} means 4 of B's ingredients are antioxidants\n",
    "\n",
    "# Need a categories data structure\n",
    "\n",
    "categories = {}\n",
    "categories['antioxidant'] = {}\n",
    "categories['anti-acne'] = {}\n",
    "categories['antioxidant']['concerns'] = 'aging, wrinkles, lines, texture, age, old, dull'\n",
    "categories['anti-acne']['concerns'] = 'acne, redness, oil, oily, pores, pimple, pimples, breakout, texture'\n",
    "categories['antioxidant']['products'] = ['A', 'B', 'C']\n",
    "categories['anti-acne']['products'] = ['1', '2', '3', '4', 'A']\n",
    "print(categories)"
   ]
  },
  {
   "cell_type": "code",
   "execution_count": 3,
   "metadata": {},
   "outputs": [
    {
     "name": "stdout",
     "output_type": "stream",
     "text": [
      "{'antioxidant': 0, 'anti-acne': 1}\n"
     ]
    }
   ],
   "source": [
    "concern_to_index = {name:index for index, name in enumerate(categories)}\n",
    "print(concern_to_index)"
   ]
  },
  {
   "cell_type": "code",
   "execution_count": 4,
   "metadata": {},
   "outputs": [],
   "source": [
    "def cos_sim(c, tfidf_mat, concern_to_index):\n",
    "    \"\"\"Returns the cosine similarity of the query and a concern list.\n",
    "    \n",
    "    Params: {c: String,\n",
    "             tfidf_mat: np.ndarray,\n",
    "             concern_to_index: Dict}\n",
    "    Returns: Float \n",
    "    \"\"\"\n",
    "    # query is last row\n",
    "    v1 = tfidf_mat[len(tfidf_mat)-1]\n",
    "    v2 = tfidf_mat[concern_to_index[c]]\n",
    "    num = np.dot(v1, v2)\n",
    "\n",
    "    return num/(np.linalg.norm(v1)*np.linalg.norm(v2))"
   ]
  },
  {
   "cell_type": "code",
   "execution_count": 5,
   "metadata": {},
   "outputs": [],
   "source": [
    "def concern_similarity(concerns, categories, products_to_indices):\n",
    "    \"\"\" Finds cosine similarity between input query (concerns) and each product category's concern list. \n",
    "        Returns a numpy array with each product's score, based on the categories they are in.\n",
    "        \n",
    "        Params: {concerns: (user input) String,\n",
    "                 categories: (category -> Dict('products', 'concerns')) Dict,\n",
    "                 products_to_indices: (product -> index) Dict}\n",
    "        Returns: Numpy Array\n",
    "    \"\"\"\n",
    "    result = np.zeros(len(products_to_indices))\n",
    "                      \n",
    "    tfidf_vec = TfidfVectorizer(stop_words = 'english')\n",
    "    lst = [categories[k]['concerns'] for k in categories.keys()]\n",
    "    lst.append(concerns)\n",
    "    tfidf_mat = tfidf_vec.fit_transform(lst).toarray()\n",
    "    \n",
    "    for k,v in categories.items():\n",
    "        sim = cos_sim(k, tfidf_mat, concern_to_index)\n",
    "        for p in v['products']:\n",
    "            result[products_to_indices[p]] += sim\n",
    "    \n",
    "    # for invalid query\n",
    "    if sum(result) == 0: return 'invalid query'\n",
    "    return result"
   ]
  },
  {
   "cell_type": "code",
   "execution_count": 7,
   "metadata": {},
   "outputs": [
    {
     "name": "stdout",
     "output_type": "stream",
     "text": [
      "[0.56070853 0.11282497 0.11282497 0.44788357 0.44788357 0.44788357\n",
      " 0.44788357]\n"
     ]
    }
   ],
   "source": [
    "concerns = 'some redness, texture, and acne'\n",
    "# q1 = 'dryness'\n",
    "products_to_indices = {'A':0, 'B':1, 'C':2, '1':3, '2':4, '3':5, '4':6}\n",
    "indices_to_products = {v:k for k,v in products_to_indices.items()}\n",
    "arr = concern_similarity(concerns, categories, products_to_indices)\n",
    "print(arr)"
   ]
  },
  {
   "cell_type": "code",
   "execution_count": 8,
   "metadata": {},
   "outputs": [],
   "source": [
    "products = {'A': {\"num faves\": 9, \"price\": 10.45}, 'B': {\"num faves\": 3, \"price\": 4.45}, \n",
    "            'C': {\"num faves\": 12, \"price\": 10.99}, '1': {\"num faves\": 6, \"price\": 8.00}, \n",
    "            '2': {\"num faves\": 6, \"price\": 5.80}, '3': {\"num faves\": 2, \"price\": 6.99},\n",
    "            '4': {\"num faves\": 0, \"price\": 18.99}}"
   ]
  },
  {
   "cell_type": "code",
   "execution_count": 9,
   "metadata": {},
   "outputs": [
    {
     "name": "stdout",
     "output_type": "stream",
     "text": [
      "[(0.5607085343890859, 0), (0.4478835659540915, 3), (0.4478835659540915, 4), (0.4478835659540915, 5), (0.4478835659540915, 6), (0.11282496843499437, 2), (0.11282496843499437, 1)]\n"
     ]
    }
   ],
   "source": [
    "arr_idx = [(val,prod) for prod, val in enumerate(arr)]\n",
    "rank_idx = sorted(arr_idx, key = lambda x: (x[0], products[indices_to_products[x[1]]][\"num faves\"], \n",
    "                                            products[indices_to_products[x[1]]][\"price\"]), reverse = True)\n",
    "print(rank_idx)"
   ]
  },
  {
   "cell_type": "code",
   "execution_count": 10,
   "metadata": {},
   "outputs": [
    {
     "name": "stdout",
     "output_type": "stream",
     "text": [
      "['A', '1', '2', '3', '4', 'C', 'B']\n"
     ]
    }
   ],
   "source": [
    "ranking = list(map(lambda x: indices_to_products[x[1]], rank_idx))\n",
    "print(ranking)"
   ]
  },
  {
   "cell_type": "code",
   "execution_count": 11,
   "metadata": {},
   "outputs": [],
   "source": [
    "# abrasive/scrub: 'acne, oil, oily, pores, pore, breakout, breakouts, wrinkles, lines, liney, texture, textured, smooth, smoother, smoothness, dull, dullness, dirt, dirty, makeup, clean, cleaning, comedones, blackhead, bleackheads, whitehead, whiteheads'\n",
    "# absorbent/mattifier: 'acne, oil, oily, pores, pore, pimple, pimples, breakout, breakouts, texture, textured, blackhead, bleackheads, whitehead, whiteheads'\n",
    "# anti-acne: 'acne, red, redness, oil, oily, pores, pore, pimple, pimples, breakout, breakouts, texture, textured, inflamed, inflammation, irritate, irritated, irritation, bump, bumps, bumpy'\n",
    "# antimicrobial/antibacterial: 'acne, oil, oily, pimple, pimples, breakout, texture, textured, bump, bumps, bumpy, comedones, blackhead, bleackheads, whitehead, whiteheads, pore, pores, dirt, dirty, makeup, clean, cleaning'\n",
    "# antioxidants: 'aging, age, wrinkles, wrinkly, lines, liney, texture, textured, rough, roughness, uneven, even, repair, repaired, repairs, protect, protection, sun, damage, damaged, dead, old, dull, dullness, pigmentation, hyperpigmentation, spots, spotty, dots, dotty, loose, droopy, drooping, sag, saggy, sags, sagging, elastic, elasticity, firm, firmer, firmness fresh, fresher, freshness, bright, brighter, brightness'\n",
    "# astringent: 'oil, oily, pores, pore, dirt, dirty, makeup, clean, cleaning, tone, toning, toner'\n",
    "# buffering: 'irritate, irritated, irritation, inflamed, inflammation, sensitive, sensitivity'\n",
    "# cell-communicating ingredient: 'aging, age, wrinkles, wrinkly, lines, liney, texture, rough, roughness, smooth, smoother, smoothness, uneven, even, damage, damaged, dead, old, dull, dullness, pigmentation, hyperpigmentation, spots, spotty, dry, dryness, loose, droopy, drooping, sag, saggy, sags, sagging, elastic, elasticity, firm, firmer, firmness, hydrate, hydrated, hydration, moisture, moisturizer, soft, softer, soften, fresh, fresher, freshness'\n",
    "# chelating: '' # no concerns, just stabilizes products\n",
    "# colorant: '' # no concerns, just colors products\n",
    "# deodorant: 'smell, smelling, odor, sweat, sweaty, sweatiness' # unlikely to be a part of our data, but just in case\n",
    "# emollient: 'itch, itchy, itchiness, redness, red, rosacea, texture, textured, rough, roughness, uneven, damage, damaged, dead, smooth, smoother, smoothness, inflamed, inflammation, irritate, irritated, irritation, dry, dryness, hydrate, hydrated, hydration, moisture, moisturizer, soft, softer, soften'\n",
    "# emulsifying: '' # no concerns, just helps mix ingredients\n",
    "# emulsion stabilising: '' # no concerns, just helps products stay mixed/stable\n",
    "# exfoliant: 'acne, oil, oily, pores, pore, breakout, breakouts, wrinkles, lines, liney, texture, textured, smooth, smoother, smoothness, dull, dullness, dirt, dirty, makeup, clean, cleaning, comedones, blackhead, bleackheads, whitehead, whiteheads, bright, brighter, brightness, fresh, fresher, freshness'\n",
    "# moisturizer/humectant: 'dry, dryness, peel, peeling, itch, itchy, itchiness, moisture, moisturizer, hydrate, hydrated, hydration, texture, rough, roughness, smooth, smoother, smoothness, soft, softer, soften, fresh, fresher, freshness'\n",
    "# perfuming: '' # no concerns, just fragrance\n",
    "# preservative: '' # no concerns, just for product longevity\n",
    "# skin brightening: 'sun, damage, damaged, repair, repaired, repairs, dull, dullness, pigmentation, hyperpigmentation, dark, darker, brown, brownish, spots, spotty, dots, dotty, brighter, brightness, even, uneven, tone, toner, toning'\n",
    "# skin-identical ingredient: 'aging, age, wrinkles, wrinkly, lines, liney, texture, rough, roughness, smooth, smoother, smoothness, uneven, even, protect, protection, damage, damaged, dead, old, dull, dullness, pigmentation, hyperpigmentation, spots, spotty, dry, dryness, loose, droopy, drooping, sag, saggy, sags, sagging, elastic, elasticity, firm, firmer, firmness, hydrate, hydrated, hydration, moisture, moisturizer, soft, softer, soften, fresh, fresher, freshness'\n",
    "# solvent: '' # no concerns, just for dissolving ingredients\n",
    "# soothing: 'itch, itchy, itchiness, redness, red, rosacea, soothe, soothing, smooth, smoother, smoothness, inflamed, inflammation, swelling, irritate, irritated, irritation, patches, patch, acne, breakout, breakouts, pimple, pimples, sensitive, sensitivity, gentle'\n",
    "# sunscreen: 'sun, damage, damaged, repair, repaired, repairs, protect, protection, dull, dullness, pigmentation, hyperpigmentation, dark, darker, brown, brownish, spots, spotty, dots, dotty, brighter, brightness, even, uneven, tone, toner, toning, aging, age, wrinkles, wrinkly, lines, liney'\n",
    "# surfactant/cleansing: 'dirt, dirty, makeup, clean, cleaning'\n",
    "# viscosity controlling: '' # no concerns, just for product thickness"
   ]
  }
 ],
 "metadata": {
  "kernelspec": {
   "display_name": "Python 3",
   "language": "python",
   "name": "python3"
  },
  "language_info": {
   "codemirror_mode": {
    "name": "ipython",
    "version": 3
   },
   "file_extension": ".py",
   "mimetype": "text/x-python",
   "name": "python",
   "nbconvert_exporter": "python",
   "pygments_lexer": "ipython3",
   "version": "3.8.5"
  }
 },
 "nbformat": 4,
 "nbformat_minor": 4
}
